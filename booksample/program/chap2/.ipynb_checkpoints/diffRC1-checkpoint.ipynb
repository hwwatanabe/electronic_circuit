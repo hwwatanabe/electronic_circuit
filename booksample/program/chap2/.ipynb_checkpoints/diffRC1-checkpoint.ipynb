{
 "cells": [
  {
   "cell_type": "code",
   "execution_count": 3,
   "metadata": {
    "collapsed": false
   },
   "outputs": [
    {
     "name": "stdout",
     "output_type": "stream",
     "text": [
      "数値代入前の解：v(t)= E0 + (-E0 + v0)*exp(-t/(C*R))\n",
      "数値代入後の解：v(t)= 1.0 - 1.0*exp(-1.0*t)\n"
     ]
    }
   ],
   "source": [
    "#微分方程式\n",
    "#¥frac{dv(t)}{dt}+¥frac{1}{RC}v(t)=¥frac{E0}{RC}¥sin¥omega t\n",
    "#を解く\n",
    "\n",
    "%matplotlib inline\n",
    "\n",
    "import numpy as np\n",
    "import matplotlib.pyplot as plt\n",
    "\n",
    "from sympy import *\n",
    "from sympy.plotting import plot\n",
    "\n",
    "v=Function('v')\n",
    "t, w, R, C, E0, v0 = symbols('t w R C E0 v0')\n",
    "\n",
    "eq=Eq(R*C*v(t).diff(t)+v(t)-E0,0)\n",
    "classify_ode(eq)\n",
    "\n",
    "#微分方程式を解く\n",
    "ans1 = dsolve(eq, v(t), hint='lie_group')\n",
    "\n",
    "#C1 => Bに変換\n",
    "#説明：Sympyが出力したC1をシンボリック変数Bに変換\n",
    "B=symbols('B')\n",
    "ans2=ans1.subs(symbols('C1'),B)\n",
    "#print('ans2=',ans2)\n",
    "#print('ans2.lhs=',ans2.lhs)\n",
    "\n",
    "#初期条件を代入\n",
    "ans3=ans2.rhs.subs(t,0) #t=0を代入\n",
    "eq2=Eq(ans3,v0) # t=0 で v(0)=v0=ans3\n",
    "ans4=solve(eq2,B) #Bについて解く\n",
    "ans5=ans2.rhs.subs(symbols('B'),ans4[0])\n",
    "#print('B=', ans4[0])\n",
    "print('数値代入前の解：v(t)=',ans5)\n",
    "\n",
    "#ここで実際の値を代入\n",
    "R=1.0\n",
    "C=1.0\n",
    "E0=1.0\n",
    "v0=0.0\n",
    "\n",
    "ans6=ans5.subs(zip(symbols('R C E0 v0'),(R,C,E0,v0)))\n",
    "print('数値代入後の解：v(t)=',ans6)\n",
    "\n",
    "#numpyへ変換\n",
    "v1=lambdify(t, ans6, \"numpy\")\n",
    "\n",
    "#プロット用の配列\n",
    "dt=0.01\n",
    "t1=np.arange(0, 10, dt)\n",
    "v=v1(t1)\n",
    "\n",
    "#プロット\n",
    "plt.plot(t1, v, color=\"blue\", linewidth=2.5, linestyle=\"-\", label=\"v(t)\")\n",
    "plt.xlabel(\"Time [s]\", fontsize=16)\n",
    "plt.ylabel(\"Voltage [V]\", fontsize=16)\n",
    "plt.legend(loc='upper left')\n",
    "#グラフの最大値・最小値\n",
    "plt.xlim(t1.min(), t1.max()) #横軸の最大値・最小値\n",
    "vmin=-v.max()*0.0\n",
    "vmax=v.max() * 1.1\n",
    "plt.ylim(vmin, vmax) #縦軸の最大値・最小値\n",
    "plt.grid(which=\"both\") #グリッドを入れる\n",
    "#plt.show()\n",
    "#plt.savefig('graph.pdf')\n",
    "\n"
   ]
  },
  {
   "cell_type": "code",
   "execution_count": null,
   "metadata": {
    "collapsed": true
   },
   "outputs": [],
   "source": []
  }
 ],
 "metadata": {
  "kernelspec": {
   "display_name": "Python 3",
   "language": "python",
   "name": "python3"
  },
  "language_info": {
   "codemirror_mode": {
    "name": "ipython",
    "version": 3
   },
   "file_extension": ".py",
   "mimetype": "text/x-python",
   "name": "python",
   "nbconvert_exporter": "python",
   "pygments_lexer": "ipython3",
   "version": "3.4.2"
  }
 },
 "nbformat": 4,
 "nbformat_minor": 0
}
