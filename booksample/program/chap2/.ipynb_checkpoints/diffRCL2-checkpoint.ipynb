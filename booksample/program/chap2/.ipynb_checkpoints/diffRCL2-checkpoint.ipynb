{
 "cells": [
  {
   "cell_type": "code",
   "execution_count": 19,
   "metadata": {
    "collapsed": false
   },
   "outputs": [
    {
     "name": "stdout",
     "output_type": "stream",
     "text": [
      "ans1= [(-C*R + sqrt(C*(C*R**2 - 4*L)))/(2*C*L), -(C*R + sqrt(C*(C*R**2 - 4*L)))/(2*C*L)]\n",
      "vh(t)= A1*exp(t*(-C*R + sqrt(C*(C*R**2 - 4*L)))/(2*C*L)) + A2*exp(-t*(C*R + sqrt(C*(C*R**2 - 4*L)))/(2*C*L))\n",
      "eq3= B - E0\n",
      "E0\n",
      "vg(t)= E0\n"
     ]
    },
    {
     "data": {
      "image/png": "[encoded data removed]",
      "text/latex": [
       "$$v{\\left (t \\right )} = A_{1} e^{\\frac{t}{2 C L} \\left(- C R + \\sqrt{C \\left(C R^{2} - 4 L\\right)}\\right)} + A_{2} e^{- \\frac{t}{2 C L} \\left(C R + \\sqrt{C \\left(C R^{2} - 4 L\\right)}\\right)} + E_{0}$$"
      ],
      "text/plain": [
       "             ⎛          ________________⎞          ⎛         ________________⎞\n",
       "             ⎜         ╱   ⎛   2      ⎞ ⎟          ⎜        ╱   ⎛   2      ⎞ ⎟\n",
       "           t⋅⎝-C⋅R + ╲╱  C⋅⎝C⋅R  - 4⋅L⎠ ⎠       -t⋅⎝C⋅R + ╲╱  C⋅⎝C⋅R  - 4⋅L⎠ ⎠\n",
       "           ──────────────────────────────       ──────────────────────────────\n",
       "                       2⋅C⋅L                                 2⋅C⋅L            \n",
       "v(t) = A₁⋅ℯ                               + A₂⋅ℯ                              \n",
       "\n",
       "      \n",
       "      \n",
       "      \n",
       "─     \n",
       "      \n",
       "  + E₀"
      ]
     },
     "execution_count": 19,
     "metadata": {},
     "output_type": "execute_result"
    }
   ],
   "source": [
    "%matplotlib inline\n",
    "from sympy import *\n",
    "init_printing()\n",
    "\n",
    "import numpy as np\n",
    "import matplotlib.pyplot as plt\n",
    "\n",
    "from sympy import *\n",
    "from sympy.plotting import plot\n",
    "\n",
    "p, t, R, C, L, E0, v0 = symbols('p t R C L E0 v0')\n",
    "v=Function('v')\n",
    "vh=Function('vh')\n",
    "vg=Function('vg')\n",
    "a1, a2, A1, A2=symbols('a1 a2 A1 A2',real=True)\n",
    "B=symbols('B',real=True)\n",
    "\n",
    "#同次方程式の基本解\n",
    "eq1=Eq(L*C*p*p+R*C*p+1,0)\n",
    "#特定方程式を解く\n",
    "ans1 = solve(eq1, p)\n",
    "print('ans1=',ans1)\n",
    "a1=ans1[0]\n",
    "a2=ans1[1]\n",
    "vh=A1*exp(a1*t)+A2*exp(a2*t)\n",
    "print('vh(t)=',vh)\n",
    "\n",
    "#特殊解としてv(t)=B（定数）を代入\n",
    "eq2=Eq(L*C*diff(B,t,2)+R*C*diff(B,t)+B-E0,0)\n",
    "eq3=eq2.lhs.doit() #doit()で実際に計算させる\n",
    "print('eq3=',eq3)\n",
    "\n",
    "ans2=solve(eq3, B)\n",
    "print(ans2[0])\n",
    "vg=ans2[0]\n",
    "print('vg(t)=', vg)\n",
    "\n",
    "eq4=Eq(v(t), vh+vg)\n",
    "eq4"
   ]
  },
  {
   "cell_type": "code",
   "execution_count": null,
   "metadata": {
    "collapsed": true
   },
   "outputs": [],
   "source": []
  }
 ],
 "metadata": {
  "kernelspec": {
   "display_name": "Python [Root]",
   "language": "python",
   "name": "Python [Root]"
  },
  "language_info": {
   "codemirror_mode": {
    "name": "ipython",
    "version": 3
   },
   "file_extension": ".py",
   "mimetype": "text/x-python",
   "name": "python",
   "nbconvert_exporter": "python",
   "pygments_lexer": "ipython3",
   "version": "3.5.2"
  }
 },
 "nbformat": 4,
 "nbformat_minor": 0
}
